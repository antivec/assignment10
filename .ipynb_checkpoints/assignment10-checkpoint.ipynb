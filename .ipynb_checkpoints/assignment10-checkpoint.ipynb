{
 "cells": [
  {
   "cell_type": "markdown",
   "metadata": {},
   "source": [
    "# assignment09 20124602\n",
    "# https://github.com/antivec/assignment09"
   ]
  },
  {
   "cell_type": "markdown",
   "metadata": {},
   "source": [
    "# import libraries"
   ]
  },
  {
   "cell_type": "code",
   "execution_count": 1,
   "metadata": {},
   "outputs": [],
   "source": [
    "import matplotlib.pyplot as plt\n",
    "import numpy as np"
   ]
  },
  {
   "cell_type": "markdown",
   "metadata": {},
   "source": [
    "# read mnist datas for file"
   ]
  },
  {
   "cell_type": "code",
   "execution_count": 2,
   "metadata": {},
   "outputs": [],
   "source": [
    "file_data_train = \"mnist_train.csv\"\n",
    "file_data_test  = \"mnist_test.csv\"\n",
    "\n",
    "h_data_train    = open(file_data_train, \"r\")\n",
    "h_data_test     = open(file_data_test, \"r\")\n",
    "\n",
    "data_train      = h_data_train.readlines()\n",
    "data_test       = h_data_test.readlines()\n",
    "\n",
    "h_data_train.close()\n",
    "h_data_test.close()\n"
   ]
  },
  {
   "cell_type": "code",
   "execution_count": 3,
   "metadata": {},
   "outputs": [],
   "source": [
    "size_row    = 28    # height of the image\n",
    "size_col    = 28    # width of the image\n",
    "\n",
    "num_train   = len(data_train)   # number of training images\n",
    "num_test    = len(data_test)    # number of testing images"
   ]
  },
  {
   "cell_type": "markdown",
   "metadata": {},
   "source": [
    "# normalize the values of the input data to be [0, 1]"
   ]
  },
  {
   "cell_type": "code",
   "execution_count": 4,
   "metadata": {},
   "outputs": [],
   "source": [
    "def normalize(data):\n",
    "\n",
    "    data_normalized = (data - min(data)) / (max(data) - min(data))\n",
    "\n",
    "    return(data_normalized)\n"
   ]
  },
  {
   "cell_type": "markdown",
   "metadata": {},
   "source": [
    "# distance function between two vectors x and y"
   ]
  },
  {
   "cell_type": "code",
   "execution_count": 5,
   "metadata": {},
   "outputs": [],
   "source": [
    "def distance(x, y):\n",
    "\n",
    "    d = (x - y) ** 2\n",
    "    s = np.sum(d)\n",
    "    # r = np.sqrt(s)\n",
    "\n",
    "    return(s)"
   ]
  },
  {
   "cell_type": "markdown",
   "metadata": {},
   "source": [
    "# make a matrix each column of which represents an images in a vector form "
   ]
  },
  {
   "cell_type": "code",
   "execution_count": 6,
   "metadata": {},
   "outputs": [],
   "source": [
    "list_image_train    = np.empty((size_row * size_col, num_train), dtype=float)\n",
    "list_label_train    = np.empty(num_train, dtype=int)\n",
    "\n",
    "list_image_test     = np.empty((size_row * size_col, num_test), dtype=float)\n",
    "list_label_test     = np.empty(num_test, dtype=int)"
   ]
  },
  {
   "cell_type": "markdown",
   "metadata": {},
   "source": [
    "# save mnist training data in the list"
   ]
  },
  {
   "cell_type": "code",
   "execution_count": null,
   "metadata": {},
   "outputs": [],
   "source": [
    "count = 0\n",
    "\n",
    "for line in data_train:\n",
    "\n",
    "    line_data   = line.split(',')\n",
    "    label       = line_data[0]\n",
    "    im_vector   = np.asfarray(line_data[1:])\n",
    "    im_vector   = normalize(im_vector)\n",
    "\n",
    "    list_label_train[count]     = label\n",
    "    list_image_train[:, count]  = im_vector    \n",
    "\n",
    "    count += 1"
   ]
  },
  {
   "cell_type": "code",
   "execution_count": null,
   "metadata": {},
   "outputs": [],
   "source": [
    "count = 0\n",
    "\n",
    "for line in data_test:\n",
    "\n",
    "    line_data   = line.split(',')\n",
    "    label       = line_data[0]\n",
    "    im_vector   = np.asfarray(line_data[1:])\n",
    "    im_vector   = normalize(im_vector)\n",
    "\n",
    "    list_label_test[count]      = label\n",
    "    list_image_test[:, count]   = im_vector    \n",
    "\n",
    "    count += 1"
   ]
  },
  {
   "cell_type": "code",
   "execution_count": null,
   "metadata": {},
   "outputs": [],
   "source": [
    "im_average  = np.zeros((size_row * size_col, 10), dtype=float)\n",
    "im_count    = np.zeros(10, dtype=int)"
   ]
  },
  {
   "cell_type": "code",
   "execution_count": null,
   "metadata": {},
   "outputs": [],
   "source": [
    "for i in range(num_train):\n",
    "    im_average[:, list_label_train[i]] += list_image_train[:, i]\n",
    "    im_count[list_label_train[i]] += 1"
   ]
  },
  {
   "cell_type": "code",
   "execution_count": null,
   "metadata": {},
   "outputs": [],
   "source": [
    "f4 = plt.figure(4)\n",
    "im_test_average  = np.zeros((size_row * size_col, 10), dtype=float)\n",
    "im_test_count    = np.zeros(10, dtype=int)"
   ]
  },
  {
   "cell_type": "code",
   "execution_count": null,
   "metadata": {},
   "outputs": [],
   "source": [
    "for i in range(num_test):\n",
    "    im_test_average[:, list_label_test[i]] += list_image_test[:, i]\n",
    "    im_test_count[list_label_test[i]] += 1"
   ]
  },
  {
   "cell_type": "markdown",
   "metadata": {},
   "source": [
    "# Define Model parameter\n",
    "\\begin{equation*}\n",
    "\\ {\\theta} = (\\theta_1,\\theta_2,....,\\theta_n)\n",
    "\\end{equation*}"
   ]
  },
  {
   "cell_type": "code",
   "execution_count": null,
   "metadata": {},
   "outputs": [],
   "source": [
    "x = np.linspace(0,9,7840)\n",
    "train_arr = im_average.reshape(7840,1)\n",
    "y = np.empty(7840,dtype = float)\n",
    "for i in range(np.size(train_arr)):\n",
    "    y[i] = train_arr[i]"
   ]
  },
  {
   "cell_type": "code",
   "execution_count": null,
   "metadata": {
    "scrolled": true
   },
   "outputs": [],
   "source": [
    "Model_parameter = np.polyfit(x,y,0)\n",
    "p1 = np.poly1d(Model_parameter)\n",
    "f = np.polyval(p1,x)\n",
    "LeastFitError = np.sum(y-f)\n",
    "for p in range(10):\n",
    "    pf = np.polyfit(x,y,p)\n",
    "    p1 = np.poly1d(pf)\n",
    "    f = np.polyval(p1,x)\n",
    "    tmpError = np.sum(y-f)\n",
    "    if(LeastFitError > tmpError):\n",
    "        LeastFitError = tmpError\n",
    "        Model_parameter = np.polyfit(x,y,p)\n",
    "    else:\n",
    "        pass"
   ]
  },
  {
   "cell_type": "code",
   "execution_count": null,
   "metadata": {},
   "outputs": [],
   "source": [
    "print(LeastFitError)\n",
    "print(Model_parameter)    "
   ]
  },
  {
   "cell_type": "markdown",
   "metadata": {},
   "source": [
    "# expected non-0 turned out to be non-0 -> TN\n",
    "#   (-) & (-)"
   ]
  },
  {
   "cell_type": "markdown",
   "metadata": {},
   "source": [
    "# expected 0 turned out to be 0 -> TP\n",
    "#   (+) & (+)"
   ]
  },
  {
   "cell_type": "markdown",
   "metadata": {},
   "source": [
    "# expected 0 turned out to be non-0 -> FP\n",
    "#   (+) & (-)"
   ]
  },
  {
   "cell_type": "markdown",
   "metadata": {},
   "source": [
    "# expected non-0 turned out to be 0 -> FN\n",
    "#   (-) & (+)"
   ]
  },
  {
   "cell_type": "markdown",
   "metadata": {},
   "source": [
    "# use training mnist-data"
   ]
  },
  {
   "cell_type": "code",
   "execution_count": null,
   "metadata": {},
   "outputs": [],
   "source": [
    "list_positive_image_train    = np.empty((size_row * size_col, num_train), dtype=float)\n",
    "list_positive_label_train    = np.empty(num_train, dtype=int)\n",
    "\n",
    "list_negative_image_train    = np.empty((size_row * size_col, num_train), dtype=float)\n",
    "list_negative_label_train    = np.empty(num_train, dtype=int)\n",
    "\n",
    "positive_party = 0\n",
    "negative_party = 0\n",
    "\n",
    "for i in range(num_train):\n",
    "    if(list_label_train[i] == 0):\n",
    "        list_positive_label_train[positive_party]     = list_label_train[i] \n",
    "        list_positive_image_train[:,positive_party]  = list_image_train[:,i]        \n",
    "        positive_party +=1\n",
    "    else:\n",
    "        list_negative_label_train[negative_party]     = list_label_train[i]\n",
    "        list_negative_image_train[:, negative_party]  = list_image_train[:,i]   \n",
    "        negative_party +=1"
   ]
  },
  {
   "cell_type": "markdown",
   "metadata": {},
   "source": [
    "# Test sample whether classified ok"
   ]
  },
  {
   "cell_type": "code",
   "execution_count": null,
   "metadata": {},
   "outputs": [],
   "source": [
    "for i in range(150):\n",
    "    positive_label       = list_positive_label_train[i]\n",
    "    positive_im_vector   = list_positive_image_train[:, i]\n",
    "    positive_im_matrix   = positive_im_vector.reshape((size_row, size_col))\n",
    "\n",
    "    plt.subplot(10, 15, i+1)\n",
    "   # plt.title(positive_label)\n",
    "    plt.imshow(positive_im_matrix, cmap='Greys', interpolation='None')\n",
    "\n",
    "    frame   = plt.gca()\n",
    "    frame.axes.get_xaxis().set_visible(False)\n",
    "    frame.axes.get_yaxis().set_visible(False)"
   ]
  },
  {
   "cell_type": "markdown",
   "metadata": {},
   "source": [
    "# generate random vector data\n",
    "\\begin{equation*}\n",
    "\\ r_{i} \\sim N(0,{\\delta}),\n",
    "\\ {\\delta} = 1\n",
    "\\end{equation*}"
   ]
  },
  {
   "cell_type": "code",
   "execution_count": null,
   "metadata": {
    "scrolled": true
   },
   "outputs": [],
   "source": [
    "random_v = np.random.normal(0,1,784)"
   ]
  },
  {
   "cell_type": "markdown",
   "metadata": {},
   "source": [
    "# Feature function\n",
    "# random_mul =\n",
    "\\begin{equation*}\n",
    "\\ f(x) = { r^T_{i}}  {x}\n",
    "\\end{equation*}"
   ]
  },
  {
   "cell_type": "code",
   "execution_count": null,
   "metadata": {},
   "outputs": [],
   "source": [
    "random_mul    = np.empty((size_row * size_col, 10), dtype=float)\n",
    "\n",
    "for i in range(10):\n",
    "    random_mul[:,i] = random_v.transpose() * im_average[:,i] "
   ]
  },
  {
   "cell_type": "markdown",
   "metadata": {},
   "source": [
    "# Partition function\n",
    "\\begin{equation*}\n",
    "\\tilde{f_n(x;\\theta)}  = \\theta_{1}f_{1}(x) + ... +\\theta_{n}f_{n}(x)\n",
    "\\end{equation*}"
   ]
  },
  {
   "cell_type": "markdown",
   "metadata": {},
   "source": [
    "# Classifier \n",
    "\\begin{equation*}\n",
    "\\hat{f(x)}  = sign(\\tilde{f(x)})\n",
    "\\begin{cases}\n",
    "    +1       & \\quad \\text{if }  \\text{ x } \\geq \\text{0} \\\\\n",
    "    -1       & \\quad \\text{if }  \\text{ x < 0}\n",
    "  \\end{cases}\n",
    "\\end{equation*}"
   ]
  },
  {
   "cell_type": "code",
   "execution_count": null,
   "metadata": {
    "scrolled": true
   },
   "outputs": [],
   "source": [
    "partition_func = np.empty((size_row * size_col, 10), dtype=float)\n",
    "sign_partition = np.empty((10,))\n",
    "for i in range(10):\n",
    "    partition = 0\n",
    "    part = random_mul[:,i] * Model_parameter[i]\n",
    "    for j in range(np.size(part)):\n",
    "        partition += part[j]    \n",
    "        sign_partition.put(i,np.sign(partition))\n",
    "\n",
    "                          \n",
    "for i in range(np.size(sign_partition)):\n",
    "    print(sign_partition[i])"
   ]
  },
  {
   "cell_type": "markdown",
   "metadata": {},
   "source": [
    "# Plot\n",
    "\\begin{equation*}\n",
    "\\ \\tilde{f(x;\\theta)}\n",
    "\\end{equation*}"
   ]
  },
  {
   "cell_type": "code",
   "execution_count": null,
   "metadata": {},
   "outputs": [],
   "source": [
    "for i in range(10):\n",
    "    lzero = normalize(random_mul[:,i] * Model_parameter[i])\n",
    "    lzero_im_matrix   = lzero.reshape((size_row, size_col))\n",
    "    plt.subplot(1,10, i+1)\n",
    "    plt.imshow(lzero_im_matrix, cmap='Greys', interpolation='None')\n",
    "    plt.xticks(())\n",
    "    plt.yticks(())"
   ]
  },
  {
   "cell_type": "code",
   "execution_count": null,
   "metadata": {},
   "outputs": [],
   "source": []
  },
  {
   "cell_type": "code",
   "execution_count": null,
   "metadata": {},
   "outputs": [],
   "source": []
  },
  {
   "cell_type": "code",
   "execution_count": null,
   "metadata": {},
   "outputs": [],
   "source": []
  }
 ],
 "metadata": {
  "kernelspec": {
   "display_name": "Python 3",
   "language": "python",
   "name": "python3"
  },
  "language_info": {
   "codemirror_mode": {
    "name": "ipython",
    "version": 3
   },
   "file_extension": ".py",
   "mimetype": "text/x-python",
   "name": "python",
   "nbconvert_exporter": "python",
   "pygments_lexer": "ipython3",
   "version": "3.6.5"
  }
 },
 "nbformat": 4,
 "nbformat_minor": 2
}
